{
 "cells": [
  {
   "cell_type": "markdown",
   "id": "71aa8a87",
   "metadata": {},
   "source": [
    "# RFM Segmentation"
   ]
  },
  {
   "cell_type": "code",
   "execution_count": null,
   "id": "d3fe5393",
   "metadata": {},
   "outputs": [],
   "source": [
    "import numpy as np \n",
    "import pandas as pd \n",
    "import matplotlib.pyplot as plt\n",
    "import seaborn as sn\n",
    "\n",
    "import warnings\n",
    "warnings.filterwarnings('ignore')\n",
    "\n",
    "import datetime as dt\n",
    "from sklearn.preprocessing import StandardScaler\n",
    "from sklearn.cluster import KMeans"
   ]
  },
  {
   "cell_type": "code",
   "execution_count": null,
   "id": "86c19b6d",
   "metadata": {},
   "outputs": [],
   "source": [
    "retail_df = pd.read_csv(\"https://raw.githubusercontent.com/manaranjanp/ISB_MLUL/main/clustering/retail_txns.csv\")"
   ]
  },
  {
   "cell_type": "code",
   "execution_count": null,
   "id": "776ae2ce",
   "metadata": {},
   "outputs": [],
   "source": [
    "retail_df.Country.value_counts()"
   ]
  },
  {
   "cell_type": "code",
   "execution_count": null,
   "id": "f5d4136a",
   "metadata": {},
   "outputs": [],
   "source": [
    "retail_df.Country.value_counts()"
   ]
  },
  {
   "cell_type": "code",
   "execution_count": null,
   "id": "eb0cb5d3",
   "metadata": {},
   "outputs": [],
   "source": [
    "retail_df.shape"
   ]
  },
  {
   "cell_type": "code",
   "execution_count": null,
   "id": "9c987bd2",
   "metadata": {},
   "outputs": [],
   "source": [
    "retail_df.info();"
   ]
  },
  {
   "cell_type": "code",
   "execution_count": null,
   "id": "92ff8951",
   "metadata": {},
   "outputs": [],
   "source": [
    "retail_df.isnull().sum()"
   ]
  },
  {
   "cell_type": "code",
   "execution_count": null,
   "id": "49cdbd3c",
   "metadata": {},
   "outputs": [],
   "source": [
    "retail_df.dropna( subset = ['CustomerID'], inplace = True)"
   ]
  },
  {
   "cell_type": "code",
   "execution_count": null,
   "id": "a75089b7",
   "metadata": {},
   "outputs": [],
   "source": [
    "retail_df.info()"
   ]
  },
  {
   "cell_type": "code",
   "execution_count": null,
   "id": "c6d2fc49",
   "metadata": {},
   "outputs": [],
   "source": [
    "sn.kdeplot(retail_df.Quantity);"
   ]
  },
  {
   "cell_type": "code",
   "execution_count": null,
   "id": "cca7c4eb",
   "metadata": {},
   "outputs": [],
   "source": [
    "retail_df[retail_df.Quantity < 0][0:10]"
   ]
  },
  {
   "cell_type": "code",
   "execution_count": null,
   "id": "a81bbd34",
   "metadata": {},
   "outputs": [],
   "source": [
    "sn.kdeplot(retail_df.UnitPrice);"
   ]
  },
  {
   "cell_type": "markdown",
   "id": "11dc5d7b",
   "metadata": {},
   "source": [
    "## Calculating the order value"
   ]
  },
  {
   "cell_type": "code",
   "execution_count": null,
   "id": "50b99be2",
   "metadata": {},
   "outputs": [],
   "source": [
    "retail_df['amount'] = retail_df.UnitPrice * retail_df.Quantity"
   ]
  },
  {
   "cell_type": "code",
   "execution_count": null,
   "id": "9be4521b",
   "metadata": {},
   "outputs": [],
   "source": [
    "retail_df[0:5]"
   ]
  },
  {
   "cell_type": "markdown",
   "id": "25eedddb",
   "metadata": {},
   "source": [
    "### RFM"
   ]
  },
  {
   "cell_type": "code",
   "execution_count": null,
   "id": "719f4d24",
   "metadata": {},
   "outputs": [],
   "source": [
    "invoices_df = retail_df.groupby(['InvoiceNo', 'InvoiceDate', 'CustomerID'])['amount'].sum().reset_index()"
   ]
  },
  {
   "cell_type": "code",
   "execution_count": null,
   "id": "ae1f3a1a",
   "metadata": {},
   "outputs": [],
   "source": [
    "invoices_df.head(10)"
   ]
  },
  {
   "cell_type": "code",
   "execution_count": null,
   "id": "4d3ffa4a",
   "metadata": {},
   "outputs": [],
   "source": [
    "invoices_df.shape"
   ]
  },
  {
   "cell_type": "code",
   "execution_count": null,
   "id": "2aa8cb04",
   "metadata": {},
   "outputs": [],
   "source": [
    "invoices_df['InvoiceDate'] = pd.to_datetime(invoices_df['InvoiceDate'])"
   ]
  },
  {
   "cell_type": "code",
   "execution_count": null,
   "id": "711a6207",
   "metadata": {},
   "outputs": [],
   "source": [
    "invoices_df.sample(10)"
   ]
  },
  {
   "cell_type": "markdown",
   "id": "6520ac21",
   "metadata": {},
   "source": [
    "### Which month the invoice is created"
   ]
  },
  {
   "cell_type": "code",
   "execution_count": null,
   "id": "95ea7eed",
   "metadata": {},
   "outputs": [],
   "source": [
    "from dateutil.relativedelta import relativedelta"
   ]
  },
  {
   "cell_type": "code",
   "execution_count": null,
   "id": "784a4de2",
   "metadata": {},
   "outputs": [],
   "source": [
    "def getDiffInMonths(now, since):\n",
    "    \n",
    "    difference = relativedelta(now, since)\n",
    "    return difference.months + difference.years * 12"
   ]
  },
  {
   "cell_type": "code",
   "execution_count": null,
   "id": "817aa5e0",
   "metadata": {},
   "outputs": [],
   "source": [
    "max(invoices_df.InvoiceDate)"
   ]
  },
  {
   "cell_type": "code",
   "execution_count": null,
   "id": "af51e58f",
   "metadata": {},
   "outputs": [],
   "source": [
    "last_month = max(invoices_df.InvoiceDate).date().replace(day=1)"
   ]
  },
  {
   "cell_type": "code",
   "execution_count": null,
   "id": "e971d623",
   "metadata": {},
   "outputs": [],
   "source": [
    "last_month"
   ]
  },
  {
   "cell_type": "code",
   "execution_count": null,
   "id": "c4809189",
   "metadata": {},
   "outputs": [],
   "source": [
    "invoices_df['monthsBefore'] =  invoices_df.apply(lambda rec:\n",
    "                                    getDiffInMonths(last_month,\n",
    "                                                    rec['InvoiceDate']),\n",
    "                                                 axis = 1)"
   ]
  },
  {
   "cell_type": "code",
   "execution_count": null,
   "id": "98187859",
   "metadata": {},
   "outputs": [],
   "source": [
    "invoices_df"
   ]
  },
  {
   "cell_type": "code",
   "execution_count": null,
   "id": "27f73045",
   "metadata": {},
   "outputs": [],
   "source": [
    "cust_grouping  = invoices_df.groupby(['CustomerID'])['monthsBefore']\n",
    "invoices_df['recency'] = cust_grouping.transform('min')"
   ]
  },
  {
   "cell_type": "code",
   "execution_count": null,
   "id": "ef390561",
   "metadata": {},
   "outputs": [],
   "source": [
    "invoices_df.sample(10)"
   ]
  },
  {
   "cell_type": "code",
   "execution_count": null,
   "id": "43f8a135",
   "metadata": {},
   "outputs": [],
   "source": [
    "invoices_df.shape"
   ]
  },
  {
   "cell_type": "code",
   "execution_count": null,
   "id": "4b71fd4a",
   "metadata": {},
   "outputs": [],
   "source": [
    "recency_df = invoices_df[['CustomerID', 'recency']].drop_duplicates()"
   ]
  },
  {
   "cell_type": "code",
   "execution_count": null,
   "id": "f0621322",
   "metadata": {},
   "outputs": [],
   "source": [
    "recency_df.shape"
   ]
  },
  {
   "cell_type": "markdown",
   "id": "b3770793",
   "metadata": {},
   "source": [
    "## Calculating Frequency and Monetary Value\n"
   ]
  },
  {
   "cell_type": "code",
   "execution_count": null,
   "id": "16285022",
   "metadata": {},
   "outputs": [],
   "source": [
    "frequency_df = invoices_df.CustomerID.value_counts().reset_index()"
   ]
  },
  {
   "cell_type": "code",
   "execution_count": null,
   "id": "70f60d89",
   "metadata": {},
   "outputs": [],
   "source": [
    "frequency_df.columns = ['CustomerID', 'frequency']\n",
    "frequency_df"
   ]
  },
  {
   "cell_type": "code",
   "execution_count": null,
   "id": "0044b1e2",
   "metadata": {},
   "outputs": [],
   "source": [
    "mvalue_df = invoices_df.groupby(['CustomerID'])['amount'].sum().reset_index()\n",
    "mvalue_df.columns = ['CustomerID', 'mvalue']\n",
    "mvalue_df"
   ]
  },
  {
   "cell_type": "code",
   "execution_count": null,
   "id": "98cdffa7",
   "metadata": {},
   "outputs": [],
   "source": [
    "rfm_df = recency_df.merge(frequency_df, on = 'CustomerID').merge(mvalue_df, on = 'CustomerID')"
   ]
  },
  {
   "cell_type": "code",
   "execution_count": null,
   "id": "985ae840",
   "metadata": {},
   "outputs": [],
   "source": [
    "rfm_df"
   ]
  },
  {
   "cell_type": "code",
   "execution_count": null,
   "id": "e1dc03ce",
   "metadata": {},
   "outputs": [],
   "source": [
    "sn.scatterplot(data = rfm_df,\n",
    "               x = 'frequency',\n",
    "               y = 'mvalue');"
   ]
  },
  {
   "cell_type": "code",
   "execution_count": null,
   "id": "c3df256c",
   "metadata": {},
   "outputs": [],
   "source": [
    "rfm_df['frequency'].describe()"
   ]
  },
  {
   "cell_type": "code",
   "execution_count": null,
   "id": "9f9b07c6",
   "metadata": {},
   "outputs": [],
   "source": [
    "rfm_df['recency'].describe()"
   ]
  },
  {
   "cell_type": "code",
   "execution_count": null,
   "id": "d38358e6",
   "metadata": {},
   "outputs": [],
   "source": [
    "rfm_df['f_bin'] = pd.cut( rfm_df['frequency'], [0, 3, 6, 50], labels = ['Low', 'Medium', 'High'])\n",
    "rfm_df['r_bin'] = pd.cut( rfm_df['recency'], [-1, 1, 4, 20], labels =['High', 'Medium', 'Low'])"
   ]
  },
  {
   "cell_type": "code",
   "execution_count": null,
   "id": "ddc1b3db",
   "metadata": {},
   "outputs": [],
   "source": [
    "rfm_df"
   ]
  },
  {
   "cell_type": "code",
   "execution_count": null,
   "id": "72498e4b",
   "metadata": {},
   "outputs": [],
   "source": [
    "rfm_segments = pd.crosstab(rfm_df.f_bin,\n",
    "                           rfm_df.r_bin,\n",
    "                           normalize = \"all\")"
   ]
  },
  {
   "cell_type": "code",
   "execution_count": null,
   "id": "69c3fd54",
   "metadata": {},
   "outputs": [],
   "source": [
    "rfm_segments = rfm_segments.reindex(['High', 'Medium', 'Low'])"
   ]
  },
  {
   "cell_type": "code",
   "execution_count": null,
   "id": "22ee23f8",
   "metadata": {},
   "outputs": [],
   "source": [
    "sn.heatmap(rfm_segments[['Low', 'Medium', 'High']],\n",
    "           annot = True,\n",
    "           fmt = \"0.3f\",\n",
    "           cmap = \"crest\");\n",
    "plt.xlabel(\"Recency\")\n",
    "plt.ylabel(\"Frequency\");"
   ]
  },
  {
   "cell_type": "code",
   "execution_count": null,
   "id": "2e5ab733",
   "metadata": {},
   "outputs": [],
   "source": [
    "sn.kdeplot(rfm_df.frequency);"
   ]
  },
  {
   "cell_type": "code",
   "execution_count": null,
   "id": "624e8a43",
   "metadata": {},
   "outputs": [],
   "source": [
    "sn.boxplot(np.log(rfm_df.frequency));"
   ]
  },
  {
   "cell_type": "code",
   "execution_count": null,
   "id": "537064f2",
   "metadata": {},
   "outputs": [],
   "source": [
    "sn.kdeplot(rfm_df.mvalue);"
   ]
  },
  {
   "cell_type": "code",
   "execution_count": null,
   "id": "1e3311c4",
   "metadata": {
    "scrolled": false
   },
   "outputs": [],
   "source": [
    "sn.boxplot(np.log(rfm_df.mvalue));"
   ]
  },
  {
   "cell_type": "code",
   "execution_count": null,
   "id": "d0026e8e",
   "metadata": {},
   "outputs": [],
   "source": [
    "rfm_df['log_frequency'] = np.log(rfm_df.frequency)"
   ]
  },
  {
   "cell_type": "code",
   "execution_count": null,
   "id": "32da9226",
   "metadata": {},
   "outputs": [],
   "source": [
    "rfm_df['log_mvalue'] = np.log(rfm_df.mvalue)"
   ]
  },
  {
   "cell_type": "code",
   "execution_count": null,
   "id": "4d19a4f7",
   "metadata": {
    "scrolled": true
   },
   "outputs": [],
   "source": [
    "rfm_df.frequency.describe()"
   ]
  },
  {
   "cell_type": "code",
   "execution_count": null,
   "id": "fc7f899a",
   "metadata": {},
   "outputs": [],
   "source": [
    "from sklearn.preprocessing import MinMaxScaler\n",
    "\n",
    "scaler = MinMaxScaler()\n",
    "scaled_rfm_df = scaler.fit_transform( rfm_df[['recency', \n",
    "                                              'log_frequency', \n",
    "                                              'log_mvalue']] )"
   ]
  },
  {
   "cell_type": "code",
   "execution_count": null,
   "id": "ada39ab9",
   "metadata": {},
   "outputs": [],
   "source": [
    "scaled_rfm_df[0:10]"
   ]
  },
  {
   "cell_type": "code",
   "execution_count": null,
   "id": "612b869c",
   "metadata": {},
   "outputs": [],
   "source": [
    "from sklearn.cluster import KMeans"
   ]
  },
  {
   "cell_type": "code",
   "execution_count": null,
   "id": "f4d700ee",
   "metadata": {},
   "outputs": [],
   "source": [
    "cluster_range = range( 2, 10 )\n",
    "cluster_errors = []\n",
    "\n",
    "for num_clusters in cluster_range:\n",
    "  clusters = KMeans( num_clusters )\n",
    "  clusters.fit( scaled_rfm_df )\n",
    "  cluster_errors.append( clusters.inertia_ )\n",
    "\n",
    "plt.figure(figsize=(8,4))\n",
    "plt.plot( cluster_range, cluster_errors, marker = \"o\" );"
   ]
  },
  {
   "cell_type": "code",
   "execution_count": null,
   "id": "977fa80c",
   "metadata": {},
   "outputs": [],
   "source": [
    "from yellowbrick.cluster import SilhouetteVisualizer\n",
    "\n",
    "fig, ax = plt.subplots(2, 2, figsize=(15,10))\n",
    "num_clusters = [5, 6, 7, 8]\n",
    "for i, k in enumerate(num_clusters):\n",
    "    km = KMeans(n_clusters=k, \n",
    "                random_state=42)\n",
    "    q, mod = divmod(i, 2)\n",
    "    visualizer = SilhouetteVisualizer(km, \n",
    "                                      colors='yellowbrick', \n",
    "                                      ax=ax[q-1][mod])\n",
    "    visualizer.fit(scaled_rfm_df) "
   ]
  },
  {
   "cell_type": "code",
   "execution_count": null,
   "id": "3c049913",
   "metadata": {},
   "outputs": [],
   "source": [
    "k = 5\n",
    "\n",
    "clusters = KMeans( k, random_state = 42 )\n",
    "clusters.fit( scaled_rfm_df )\n",
    "rfm_df[\"clusterid\"] = clusters.labels_"
   ]
  },
  {
   "cell_type": "code",
   "execution_count": null,
   "id": "6197042f",
   "metadata": {},
   "outputs": [],
   "source": [
    "plt.figure(figsize = (10, 6))\n",
    "sn.scatterplot(data = rfm_df,\n",
    "               y = 'frequency',\n",
    "               x = 'mvalue',\n",
    "               hue = 'clusterid',\n",
    "               style= \"clusterid\" );"
   ]
  },
  {
   "cell_type": "code",
   "execution_count": null,
   "id": "25d8942c",
   "metadata": {},
   "outputs": [],
   "source": [
    "plt.figure(figsize = (10, 6))\n",
    "sn.scatterplot(data = rfm_df,\n",
    "               y = 'recency',\n",
    "               x = 'mvalue',\n",
    "               hue = 'clusterid',\n",
    "               style= \"clusterid\" );"
   ]
  },
  {
   "cell_type": "code",
   "execution_count": null,
   "id": "56413586",
   "metadata": {},
   "outputs": [],
   "source": [
    "sn.barplot(data = rfm_df,\n",
    "           x = 'clusterid',\n",
    "           y = 'mvalue',           \n",
    "           estimator='mean');"
   ]
  },
  {
   "cell_type": "code",
   "execution_count": null,
   "id": "d104de46",
   "metadata": {},
   "outputs": [],
   "source": [
    "sn.barplot(data = rfm_df,\n",
    "           x = 'clusterid',\n",
    "           y = 'frequency');"
   ]
  },
  {
   "cell_type": "code",
   "execution_count": null,
   "id": "0b04f5bd",
   "metadata": {},
   "outputs": [],
   "source": [
    "sn.barplot(data = rfm_df,\n",
    "           x = 'clusterid',\n",
    "           y = 'recency');"
   ]
  },
  {
   "cell_type": "code",
   "execution_count": null,
   "id": "18e972d0",
   "metadata": {},
   "outputs": [],
   "source": [
    "rfm_df"
   ]
  },
  {
   "cell_type": "code",
   "execution_count": null,
   "id": "a60cb82b",
   "metadata": {},
   "outputs": [],
   "source": [
    "rfm_df[['recency', 'frequency', 'mvalue', 'clusterid']].groupby(\"clusterid\").mean()"
   ]
  },
  {
   "cell_type": "markdown",
   "id": "650a1c49",
   "metadata": {},
   "source": [
    "## Segmentation Interpretation:\n",
    "\n",
    "- Cluster 0: New Customers\n",
    "\n",
    "- Cluster 1: Loyal Customers and Promising\n",
    "\n",
    "- Cluster 2: Star Customers\n",
    "\n",
    "- Cluster 3: Dormant or Churned\n",
    "\n",
    "- Cluster 4: On the Fence or Needs attention"
   ]
  }
 ],
 "metadata": {
  "kernelspec": {
   "display_name": "Python 3 (ipykernel)",
   "language": "python",
   "name": "python3"
  },
  "language_info": {
   "codemirror_mode": {
    "name": "ipython",
    "version": 3
   },
   "file_extension": ".py",
   "mimetype": "text/x-python",
   "name": "python",
   "nbconvert_exporter": "python",
   "pygments_lexer": "ipython3",
   "version": "3.10.9"
  }
 },
 "nbformat": 4,
 "nbformat_minor": 5
}
